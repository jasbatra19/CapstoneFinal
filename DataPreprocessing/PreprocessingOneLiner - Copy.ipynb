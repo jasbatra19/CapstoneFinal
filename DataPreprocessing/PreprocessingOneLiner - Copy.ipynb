{
 "cells": [
  {
   "cell_type": "code",
   "execution_count": 1,
   "metadata": {},
   "outputs": [],
   "source": [
    "import pandas as pd"
   ]
  },
  {
   "cell_type": "code",
   "execution_count": 2,
   "metadata": {},
   "outputs": [],
   "source": [
    "df=pd.read_csv(\"../QuestionGenerator/quesAnswer/questionAnswer.csv\")"
   ]
  },
  {
   "cell_type": "code",
   "execution_count": 3,
   "metadata": {},
   "outputs": [],
   "source": [
    "questions=df['questions']\n",
    "question=[]\n",
    "for data in questions:\n",
    "    entry=data.strip().split(\".\")\n",
    "    question.append(entry[1])\n",
    "df['question']=question"
   ]
  },
  {
   "cell_type": "markdown",
   "metadata": {},
   "source": [
    "## Preprocessing of answers\n"
   ]
  },
  {
   "cell_type": "code",
   "execution_count": 4,
   "metadata": {},
   "outputs": [],
   "source": [
    "answers=df['answers']\n",
    "answer=[]\n",
    "for data in answers:\n",
    "    entry=data.replace('\\\\n',\"\")\n",
    "    answer.append(entry[10:-2])\n",
    "df['answer']=answer"
   ]
  },
  {
   "cell_type": "code",
   "execution_count": 5,
   "metadata": {},
   "outputs": [],
   "source": [
    "df = df.drop(columns=['questions','answers'])\n"
   ]
  },
  {
   "cell_type": "code",
   "execution_count": 6,
   "metadata": {},
   "outputs": [],
   "source": [
    "#  saving this preprocessed data into csv\n",
    "df.to_csv('../dataset/PreprocessedDataSetOneLiners.csv', index=False)\n"
   ]
  },
  {
   "cell_type": "markdown",
   "metadata": {},
   "source": [
    "## dataframe II getting preprocessed\n"
   ]
  },
  {
   "cell_type": "code",
   "execution_count": 7,
   "metadata": {},
   "outputs": [],
   "source": [
    "df2=pd.read_csv(\"../dataset/quesAns.csv\")"
   ]
  },
  {
   "cell_type": "code",
   "execution_count": 8,
   "metadata": {},
   "outputs": [],
   "source": [
    "questions=df2['question']\n",
    "question=[]\n",
    "for data in questions:\n",
    "    entry=data.strip().split(\")\")\n",
    "    question.append(entry[1])\n",
    "df2['question']=question"
   ]
  },
  {
   "cell_type": "code",
   "execution_count": 9,
   "metadata": {},
   "outputs": [
    {
     "data": {
      "text/html": [
       "<div>\n",
       "<style scoped>\n",
       "    .dataframe tbody tr th:only-of-type {\n",
       "        vertical-align: middle;\n",
       "    }\n",
       "\n",
       "    .dataframe tbody tr th {\n",
       "        vertical-align: top;\n",
       "    }\n",
       "\n",
       "    .dataframe thead th {\n",
       "        text-align: right;\n",
       "    }\n",
       "</style>\n",
       "<table border=\"1\" class=\"dataframe\">\n",
       "  <thead>\n",
       "    <tr style=\"text-align: right;\">\n",
       "      <th></th>\n",
       "      <th>question</th>\n",
       "      <th>answer</th>\n",
       "    </tr>\n",
       "  </thead>\n",
       "  <tbody>\n",
       "    <tr>\n",
       "      <th>0</th>\n",
       "      <td>What is an operating system?</td>\n",
       "      <td>The operating system is a software program tha...</td>\n",
       "    </tr>\n",
       "    <tr>\n",
       "      <th>1</th>\n",
       "      <td>What is the main purpose of an operating system?</td>\n",
       "      <td>There are two main purposes of an operating sy...</td>\n",
       "    </tr>\n",
       "    <tr>\n",
       "      <th>2</th>\n",
       "      <td>What are the different operating systems?</td>\n",
       "      <td>- Batched operating systems- Distributed opera...</td>\n",
       "    </tr>\n",
       "    <tr>\n",
       "      <th>3</th>\n",
       "      <td>What is a socket?</td>\n",
       "      <td>A socket is used to make connection between tw...</td>\n",
       "    </tr>\n",
       "    <tr>\n",
       "      <th>4</th>\n",
       "      <td>What is a real-time system?</td>\n",
       "      <td>Real-time system is used in the case when rigi...</td>\n",
       "    </tr>\n",
       "    <tr>\n",
       "      <th>...</th>\n",
       "      <td>...</td>\n",
       "      <td>...</td>\n",
       "    </tr>\n",
       "    <tr>\n",
       "      <th>84</th>\n",
       "      <td>What is Round Robin CPU Scheduling Algorithm?</td>\n",
       "      <td>Round Robin is a CPU scheduling mechanism whos...</td>\n",
       "    </tr>\n",
       "    <tr>\n",
       "      <th>85</th>\n",
       "      <td>What is Disk Scheduling in Operating Systems?</td>\n",
       "      <td>Operating systems use disk scheduling to plan ...</td>\n",
       "    </tr>\n",
       "    <tr>\n",
       "      <th>86</th>\n",
       "      <td>What is the importance of Disk Scheduling in ...</td>\n",
       "      <td>- One Input or Output request may be fulfilled...</td>\n",
       "    </tr>\n",
       "    <tr>\n",
       "      <th>87</th>\n",
       "      <td>What are the Disk Scheduling Algorithms used ...</td>\n",
       "      <td>The Disk Scheduling Algorithms used in Operati...</td>\n",
       "    </tr>\n",
       "    <tr>\n",
       "      <th>88</th>\n",
       "      <td>What is Monitors in the context of Operating ...</td>\n",
       "      <td>A feature of programming languages called moni...</td>\n",
       "    </tr>\n",
       "  </tbody>\n",
       "</table>\n",
       "<p>89 rows × 2 columns</p>\n",
       "</div>"
      ],
      "text/plain": [
       "                                             question  \\\n",
       "0                        What is an operating system?   \n",
       "1    What is the main purpose of an operating system?   \n",
       "2           What are the different operating systems?   \n",
       "3                                   What is a socket?   \n",
       "4                         What is a real-time system?   \n",
       "..                                                ...   \n",
       "84      What is Round Robin CPU Scheduling Algorithm?   \n",
       "85      What is Disk Scheduling in Operating Systems?   \n",
       "86   What is the importance of Disk Scheduling in ...   \n",
       "87   What are the Disk Scheduling Algorithms used ...   \n",
       "88   What is Monitors in the context of Operating ...   \n",
       "\n",
       "                                               answer  \n",
       "0   The operating system is a software program tha...  \n",
       "1   There are two main purposes of an operating sy...  \n",
       "2   - Batched operating systems- Distributed opera...  \n",
       "3   A socket is used to make connection between tw...  \n",
       "4   Real-time system is used in the case when rigi...  \n",
       "..                                                ...  \n",
       "84  Round Robin is a CPU scheduling mechanism whos...  \n",
       "85  Operating systems use disk scheduling to plan ...  \n",
       "86  - One Input or Output request may be fulfilled...  \n",
       "87  The Disk Scheduling Algorithms used in Operati...  \n",
       "88  A feature of programming languages called moni...  \n",
       "\n",
       "[89 rows x 2 columns]"
      ]
     },
     "execution_count": 9,
     "metadata": {},
     "output_type": "execute_result"
    }
   ],
   "source": [
    "answers=df2['answer']\n",
    "answer=[]\n",
    "for data in answers:\n",
    "    entry=data.replace('\\\\n',\"\")\n",
    "    answer.append(entry[2:-2])\n",
    "df2['answer']=answer\n",
    "df2"
   ]
  },
  {
   "cell_type": "code",
   "execution_count": 10,
   "metadata": {},
   "outputs": [],
   "source": [
    "df2 = df2.drop(columns=['question','answer'])"
   ]
  },
  {
   "cell_type": "code",
   "execution_count": 11,
   "metadata": {},
   "outputs": [],
   "source": [
    "df2.to_csv('../dataset/PreprocessedDataSetOneLiners.csv', mode='a', header=False, index=False)"
   ]
  }
 ],
 "metadata": {
  "kernelspec": {
   "display_name": "Python 3",
   "language": "python",
   "name": "python3"
  },
  "language_info": {
   "codemirror_mode": {
    "name": "ipython",
    "version": 3
   },
   "file_extension": ".py",
   "mimetype": "text/x-python",
   "name": "python",
   "nbconvert_exporter": "python",
   "pygments_lexer": "ipython3",
   "version": "3.12.0"
  },
  "orig_nbformat": 4
 },
 "nbformat": 4,
 "nbformat_minor": 2
}
